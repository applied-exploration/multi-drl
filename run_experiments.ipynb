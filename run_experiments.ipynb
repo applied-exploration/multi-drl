{
 "metadata": {
  "language_info": {
   "codemirror_mode": {
    "name": "ipython",
    "version": 3
   },
   "file_extension": ".py",
   "mimetype": "text/x-python",
   "name": "python",
   "nbconvert_exporter": "python",
   "pygments_lexer": "ipython3",
   "version": "3.6.9"
  },
  "orig_nbformat": 2,
  "kernelspec": {
   "name": "python369jvsc74a57bd031f2aee4e71d21fbe5cf8b01ff0e069b9275f58929596ceb00d14d90e3e16cd6",
   "display_name": "Python 3.6.9 64-bit"
  },
  "metadata": {
   "interpreter": {
    "hash": "31f2aee4e71d21fbe5cf8b01ff0e069b9275f58929596ceb00d14d90e3e16cd6"
   }
  }
 },
 "nbformat": 4,
 "nbformat_minor": 2,
 "cells": [
  {
   "cell_type": "code",
   "execution_count": null,
   "metadata": {},
   "outputs": [],
   "source": [
    "# --- Load Agents --- #\n",
    "from agents.agent_reinforce.agent import REINFORCEAgent\n",
    "from agents.agent_deepqn.agent import DeepQAgent\n",
    "# from agents.agent_ddpg.agent import DDPG_Agent\n",
    "# from agents.agent_ppo.agent import PPOAgent\n",
    "\n",
    "# --- Load Environments --- #\n",
    "from environment.grid import GridEnv\n",
    "\n",
    "# --- Load Necessary --- #\n",
    "from collections import deque\n",
    "import numpy as np\n",
    "from utilities.helper import flatten\n",
    "from utilities.profiler import profile\n",
    "\n",
    "# --- Load Training --- #\n",
    "from experiments.experiment import Experiment\n",
    "\n",
    "%load_ext autoreload\n",
    "%autoreload 2\n"
   ]
  },
  {
   "source": [
    "# Experiments"
   ],
   "cell_type": "markdown",
   "metadata": {}
  },
  {
   "cell_type": "code",
   "execution_count": null,
   "metadata": {},
   "outputs": [],
   "source": [
    "from agents.agent_reinforce.agent import REINFORCEAgentConfig\n",
    "from agents.agent_deepqn.agent import DeepQAgentConfig\n"
   ]
  },
  {
   "cell_type": "code",
   "execution_count": null,
   "metadata": {},
   "outputs": [],
   "source": [
    "    num_episodes = 1\n",
    "    max_t = 1\n",
    "\n",
    "    \"\"\"\n",
    "    order of config: num_agent, grid_size, agents_start, goals_start, prob_right_direction, actor_critic \n",
    "    init environment: num_agent = 2, grid_size = 8, prob_right_direction = 1, agents_start = [], goals_start=[], render_board = False\n",
    "    init of dqn:  state_size, action_size, config = DeepQAgentConfig(), seed = 1, samp_frames=1\n",
    "    init of rei:  state_size, action_size, config = REINFORCEAgentConfig(), seed = 1 <- no hidden layer!\n",
    "    \"\"\""
   ]
  },
  {
   "source": [
    "# Experiment Batch 1"
   ],
   "cell_type": "markdown",
   "metadata": {}
  },
  {
   "cell_type": "code",
   "execution_count": null,
   "metadata": {},
   "outputs": [],
   "source": [
    "from experiments.experiment_list import exp1_dqn, exp1_rei"
   ]
  },
  {
   "source": [
    "## Experiment Batch 1 - DQN"
   ],
   "cell_type": "markdown",
   "metadata": {}
  },
  {
   "cell_type": "code",
   "execution_count": null,
   "metadata": {
    "tags": []
   },
   "outputs": [],
   "source": [
    "dqn_experiments = []\n",
    "for i, config in enumerate(exp1_dqn):\n",
    "    \n",
    "    # --- Env --- #\n",
    "    env = GridEnv(num_agent = config[0], grid_size = config[1], fixed_start = config[2], fixed_goals=config[3], prob_right_direction = config[4], render_board = False)\n",
    "\n",
    "    # --- Agents --- #\n",
    "    agent_config = DeepQAgentConfig(HIDDEN_LAYER_SIZE=config[5])\n",
    "    agent = DeepQAgent(env.state_space, env.action_space.n, seed=1, config=agent_config)\n",
    "    agents = [agent for _ in range(env.num_agent)]\n",
    "\n",
    "    # --- Experiment --- #\n",
    "    new_experiment = Experiment(name=\"Batch 1 - DQN - Exp_{}\".format(str(i)), environment= env, agents=agents, max_t=max_t,                               num_episodes=num_episodes, goal = 0., save_states_every=0, experiment_num=i)\n",
    "    dqn_experiments.append(new_experiment)\n",
    "\n",
    "print(len(dqn_experiments))"
   ]
  },
  {
   "cell_type": "code",
   "execution_count": null,
   "metadata": {},
   "outputs": [],
   "source": [
    "for experiment in dqn_experiments:\n",
    "    score_history, state_history = experiment.run()\n",
    "    #experiment.save(score_history, state_history, display = False)"
   ]
  },
  {
   "source": [
    "## Experiment Batch 1 - REINFORCE"
   ],
   "cell_type": "markdown",
   "metadata": {}
  },
  {
   "cell_type": "code",
   "execution_count": null,
   "metadata": {},
   "outputs": [],
   "source": [
    "rei_experiments = []\n",
    "for i, config in enumerate(exp1_rei):\n",
    "    \n",
    "    # --- Env --- #\n",
    "    env = GridEnv(num_agent = config[0], grid_size = config[1], fixed_start = config[2], fixed_goals=config[3], prob_right_direction = config[4], render_board = False)\n",
    "\n",
    "    # --- Agents --- #\n",
    "    agent_config = REINFORCEAgentConfig(HIDDEN_LAYER_SIZE=config[5])\n",
    "    agent = REINFORCEAgent(env.state_space, env.action_space.n, seed=1, config=agent_config)\n",
    "    agents = [agent for _ in range(env.num_agent)]\n",
    "\n",
    "    # --- Experiment --- #\n",
    "    new_experiment = Experiment(name=\"Batch 1 - REI - Exp_{}\".format(str(i)), environment= env, agents=agents, max_t=max_t,                               num_episodes=num_episodes, goal = 0., save_states_every=0, experiment_num=i)\n",
    "    rei_experiments.append(new_experiment)\n",
    "\n",
    "print(len(rei_experiments))"
   ]
  },
  {
   "cell_type": "code",
   "execution_count": null,
   "metadata": {},
   "outputs": [],
   "source": [
    "for experiment in rei_experiments:\n",
    "    score_history, state_history = experiment.run()\n",
    "    #experiment.save(score_history, state_history, display = False)"
   ]
  },
  {
   "source": [
    "# Experiment Batch 2"
   ],
   "cell_type": "markdown",
   "metadata": {}
  },
  {
   "cell_type": "code",
   "execution_count": null,
   "metadata": {},
   "outputs": [],
   "source": [
    "from experiments.experiment_list import exp2_dqn, exp2_rei"
   ]
  },
  {
   "source": [
    "## Experiment Batch 2 - DQN"
   ],
   "cell_type": "markdown",
   "metadata": {}
  },
  {
   "cell_type": "code",
   "execution_count": null,
   "metadata": {},
   "outputs": [],
   "source": [
    "dqn_experiments = []\n",
    "for i, config in enumerate(exp2_dqn):\n",
    "    \n",
    "    # --- Env --- #\n",
    "    env = GridEnv(num_agent = config[0], grid_size = config[1], fixed_start = config[2], fixed_goals=config[3], prob_right_direction = config[4], render_board = False)\n",
    "\n",
    "    # --- Agents --- #\n",
    "    agent_config = DeepQAgentConfig(HIDDEN_LAYER_SIZE=config[5])\n",
    "    agent = DeepQAgent(env.state_space, env.action_space.n, seed=1, config=agent_config)\n",
    "    agents = [agent for _ in range(env.num_agent)]\n",
    "\n",
    "    # --- Experiment --- #\n",
    "    new_experiment = Experiment(name=\"Batch 2 - DQN - Exp_{}\".format(str(i)), environment= env, agents=agents, max_t=max_t,                               num_episodes=num_episodes, goal = 0., save_states_every=0, experiment_num=i)\n",
    "    dqn_experiments.append(new_experiment)\n",
    "\n",
    "print(len(dqn_experiments))"
   ]
  },
  {
   "cell_type": "code",
   "execution_count": null,
   "metadata": {},
   "outputs": [],
   "source": [
    "for experiment in dqn_experiments:\n",
    "    score_history, state_history = experiment.run()"
   ]
  },
  {
   "source": [
    "## Experiment Batch 2 - REINFORCE"
   ],
   "cell_type": "markdown",
   "metadata": {}
  },
  {
   "cell_type": "code",
   "execution_count": null,
   "metadata": {},
   "outputs": [],
   "source": [
    "rei_experiments = []\n",
    "for i, config in enumerate(exp1_rei):\n",
    "    \n",
    "    # --- Env --- #\n",
    "    env = GridEnv(num_agent = config[0], grid_size = config[1], fixed_start = config[2], fixed_goals=config[3], prob_right_direction = config[4], render_board = False)\n",
    "\n",
    "    # --- Agents --- #\n",
    "    agent_config = REINFORCEAgentConfig(HIDDEN_LAYER_SIZE=config[5])\n",
    "    agent = REINFORCEAgent(env.state_space, env.action_space.n, seed=1, config=agent_config)\n",
    "    agents = [agent for _ in range(env.num_agent)]\n",
    "\n",
    "    # --- Experiment --- #\n",
    "    new_experiment = Experiment(name=\"Batch 2 - REI - Exp_{}\".format(str(i)), environment= env, agents=agents, max_t=max_t,                               num_episodes=num_episodes, goal = 0., save_states_every=0, experiment_num=i)\n",
    "    rei_experiments.append(new_experiment)\n",
    "\n",
    "print(len(rei_experiments))"
   ]
  },
  {
   "cell_type": "code",
   "execution_count": null,
   "metadata": {},
   "outputs": [],
   "source": [
    "for experiment in rei_experiments:\n",
    "    score_history, state_history = experiment.run()\n",
    "    #experiment.save(score_history, state_history, display = False)"
   ]
  },
  {
   "source": [
    "# Experiment Batch 3"
   ],
   "cell_type": "markdown",
   "metadata": {}
  },
  {
   "cell_type": "code",
   "execution_count": null,
   "metadata": {},
   "outputs": [],
   "source": [
    "from experiments.experiment_list import exp3_dqn, exp3_rei"
   ]
  },
  {
   "source": [
    "## Experiment Batch 3 - DQN"
   ],
   "cell_type": "markdown",
   "metadata": {}
  },
  {
   "cell_type": "code",
   "execution_count": null,
   "metadata": {},
   "outputs": [],
   "source": [
    "dqn_experiments = []\n",
    "for i, config in enumerate(exp3_dqn):\n",
    "    \n",
    "    # --- Env --- #\n",
    "    env = GridEnv(num_agent = config[0], grid_size = config[1], fixed_start = config[2], fixed_goals=config[3], prob_right_direction = config[4], render_board = False)\n",
    "\n",
    "    # --- Agents --- #\n",
    "    agent_config = DeepQAgentConfig(HIDDEN_LAYER_SIZE=config[5])\n",
    "    agent = DeepQAgent(env.state_space, env.action_space.n, seed=1, config=agent_config)\n",
    "    agents = [agent for _ in range(env.num_agent)]\n",
    "\n",
    "    # --- Experiment --- #\n",
    "    new_experiment = Experiment(name=\"Batch 3 - DQN - Exp_{}\".format(str(i)), environment= env, agents=agents, max_t=max_t,                               num_episodes=num_episodes, goal = 0., save_states_every=0, experiment_num=i)\n",
    "    dqn_experiments.append(new_experiment)\n",
    "\n",
    "print(len(dqn_experiments))"
   ]
  },
  {
   "cell_type": "code",
   "execution_count": null,
   "metadata": {},
   "outputs": [],
   "source": [
    "for experiment in dqn_experiments:\n",
    "    score_history, state_history = experiment.run()\n",
    "    #experiment.save(score_history, state_history, display = False)"
   ]
  },
  {
   "source": [
    "## Experiment Batch 3 - REINFORCE"
   ],
   "cell_type": "markdown",
   "metadata": {}
  },
  {
   "cell_type": "code",
   "execution_count": null,
   "metadata": {},
   "outputs": [],
   "source": [
    "rei_experiments = []\n",
    "for i, config in enumerate(exp3_rei):\n",
    "    \n",
    "    # --- Env --- #\n",
    "    env = GridEnv(num_agent = config[0], grid_size = config[1], fixed_start = config[2], fixed_goals=config[3], prob_right_direction = config[4], render_board = False)\n",
    "\n",
    "    # --- Agents --- #\n",
    "    agent_config = REINFORCEAgentConfig(HIDDEN_LAYER_SIZE=config[5])\n",
    "    agent = REINFORCEAgent(env.state_space, env.action_space.n, seed=1, config=agent_config)\n",
    "    agents = [agent for _ in range(env.num_agent)]\n",
    "\n",
    "    # --- Experiment --- #\n",
    "    new_experiment = Experiment(name=\"Batch 3 - REI - Exp_{}\".format(str(i)), environment= env, agents=agents, max_t=max_t,                               num_episodes=num_episodes, goal = 0., save_states_every=0, experiment_num=i)\n",
    "    rei_experiments.append(new_experiment)\n",
    "\n",
    "print(len(rei_experiments))"
   ]
  },
  {
   "cell_type": "code",
   "execution_count": null,
   "metadata": {},
   "outputs": [],
   "source": [
    "for experiment in rei_experiments:\n",
    "    score_history, state_history = experiment.run()\n",
    "    #experiment.save(score_history, state_history, display = False)"
   ]
  },
  {
   "source": [
    "# Experiment Batch 4 - To be decided later!"
   ],
   "cell_type": "markdown",
   "metadata": {}
  },
  {
   "cell_type": "code",
   "execution_count": null,
   "metadata": {},
   "outputs": [],
   "source": [
    "from experiments.experiment_list import exp4_dqn, exp4_rei"
   ]
  }
 ]
}