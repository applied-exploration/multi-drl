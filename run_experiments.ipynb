{
 "metadata": {
  "language_info": {
   "codemirror_mode": {
    "name": "ipython",
    "version": 3
   },
   "file_extension": ".py",
   "mimetype": "text/x-python",
   "name": "python",
   "nbconvert_exporter": "python",
   "pygments_lexer": "ipython3",
   "version": "3.6.12"
  },
  "orig_nbformat": 2,
  "kernelspec": {
   "name": "python3612jvsc74a57bd021b14e6ae810b98687c42101764fbc6ed2f749f10b37141b42930ea65db4f89b",
   "display_name": "Python 3.6.12 64-bit ('drlnd': conda)"
  }
 },
 "nbformat": 4,
 "nbformat_minor": 2,
 "cells": [
  {
   "cell_type": "code",
   "execution_count": 1,
   "metadata": {},
   "outputs": [
    {
     "output_type": "stream",
     "name": "stderr",
     "text": [
      "C:\\Users\\danie\\anaconda3\\envs\\drlnd\\lib\\site-packages\\torch\\cuda\\__init__.py:52: UserWarning: CUDA initialization: CUDA unknown error - this may be due to an incorrectly set up environment, e.g. changing env variable CUDA_VISIBLE_DEVICES after program start. Setting the available devices to be zero. (Triggered internally at  ..\\c10\\cuda\\CUDAFunctions.cpp:109.)\n  return torch._C._cuda_getDeviceCount() > 0\n"
     ]
    }
   ],
   "source": [
    "# --- Load Agents --- #\n",
    "from agents.agent_reinforce.agent import REINFORCEAgent\n",
    "from agents.agent_deepqn.agent import DeepQAgent\n",
    "from agents.agent_ddpg.agent import DDPG_Agent\n",
    "\n",
    "# --- Load Environments --- #\n",
    "from environment.grid import GridEnv\n",
    "\n",
    "# --- Load Necessary --- #\n",
    "from collections import deque\n",
    "import numpy as np\n",
    "from utilities.helper import flatten\n",
    "\n",
    "\n",
    "# --- Load Training --- #\n",
    "from experiments.experiment import Experiment\n",
    "\n",
    "%load_ext autoreload\n",
    "%autoreload 2\n"
   ]
  },
  {
   "source": [
    "# Experiments with config files"
   ],
   "cell_type": "markdown",
   "metadata": {}
  },
  {
   "cell_type": "code",
   "execution_count": 6,
   "metadata": {},
   "outputs": [],
   "source": [
    "def choose_random(num_agent, grid_size, randomized, distribution):\n",
    "    if not randomized: return [[] for _ in range(num_agent)]\n",
    "    else: \n",
    "        new_distribution = distribution.copy()\n",
    "        np.random.shuffle(new_distribution[:grid_size])\n",
    "        return new_distribution[:num_agent]"
   ]
  },
  {
   "cell_type": "code",
   "execution_count": 7,
   "metadata": {},
   "outputs": [],
   "source": [
    "from experiments.experiment_list import exp_config_ddpg, exp_config_ppo, exp_config_dqn, possible_starts, possible_goals\n",
    "from agents.agent_ddpg.config import DDPG_AgentConfig\n"
   ]
  },
  {
   "cell_type": "code",
   "execution_count": 8,
   "metadata": {
    "tags": []
   },
   "outputs": [
    {
     "output_type": "stream",
     "name": "stdout",
     "text": [
      "(2, 3, True, False, 1, [16])\n[(1, 1), (1, 3)]\n[[], []]\n[(1, 1), (1, 3)]\n[[0.3333333333333333, 0.3333333333333333], [0.3333333333333333, 1.0]]\n1\n"
     ]
    }
   ],
   "source": [
    "ddpg_experiments = []\n",
    "for i, config in enumerate(exp_config_ddpg):\n",
    "    \"\"\"\n",
    "    order of config: num_agent, grid_size, agents_start, goals_start, prob_right_direction, actor_critic \n",
    "    init environment: num_agent = 2, grid_size = 8, prob_right_direction = 1, agents_start = [], goals_start=[], render_board = False\n",
    "    init of ddpg: state_size, action_size, seed=1, config=DDPG_AgentConfig()\n",
    "    \"\"\"\n",
    "    agents_start = choose_random(config[0], config[1], config[2], possible_starts)\n",
    "    goals_start = choose_random(config[0], config[1], config[3], possible_goals)\n",
    "\n",
    "    \n",
    "    env = GridEnv(num_agent = config[0], grid_size = config[1], agents_start = agents_start, goals_start=goals_start, prob_right_direction = config[4], render_board = False)\n",
    "\n",
    "    agent_config = DDPG_AgentConfig(ACTOR_H=config[5], CRITIC_H=config[5])\n",
    "    agents = [DDPG_Agent(env.state_space, env.action_space.n, seed=1, config=agent_config) for _ in range(env.num_agent)]\n",
    "\n",
    "    ddpg_experiments.append(Experiment(name=\"DDPG Exp {}\".format(i), environment= env, agents=agents, max_t=1, num_episodes=1, goal = 0.))\n",
    "\n",
    "print(len(ddpg_experiments))"
   ]
  },
  {
   "cell_type": "code",
   "execution_count": null,
   "metadata": {},
   "outputs": [],
   "source": [
    "for experiment in ddpg_experiments:\n",
    "    score_history, state_history = experiment.run()\n",
    "    #experiment.save(score_history, state_history, display = False)"
   ]
  },
  {
   "cell_type": "code",
   "execution_count": null,
   "metadata": {},
   "outputs": [],
   "source": []
  }
 ]
}