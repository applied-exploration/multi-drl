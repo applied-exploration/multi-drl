{
 "metadata": {
  "orig_nbformat": 2,
  "kernelspec": {
   "name": "python3612jvsc74a57bd021b14e6ae810b98687c42101764fbc6ed2f749f10b37141b42930ea65db4f89b",
   "display_name": "Python 3.6.12 64-bit ('drlnd': conda)"
  },
  "metadata": {
   "interpreter": {
    "hash": "31f2aee4e71d21fbe5cf8b01ff0e069b9275f58929596ceb00d14d90e3e16cd6"
   }
  }
 },
 "nbformat": 4,
 "nbformat_minor": 2,
 "cells": [
  {
   "cell_type": "code",
   "execution_count": null,
   "metadata": {},
   "outputs": [],
   "source": [
    "# --- Load Agents --- #\n",
    "from agents.agent_reinforce.agent import REINFORCEAgent\n",
    "from agents.agent_deepqn.agent import DeepQAgent\n",
    "# from agents.agent_ddpg.agent import DDPG_Agent\n",
    "# from agents.agent_ppo.agent import PPOAgent\n",
    "\n",
    "# --- Load Environments --- #\n",
    "from environment.grid import GridEnv\n",
    "# --- Load Necessary --- #\n",
    "from collections import deque\n",
    "import numpy as np\n",
    "from utilities.helper import flatten\n",
    "from utilities.profiler import profile\n",
    "\n",
    "# --- Load Training --- #\n",
    "from experiments.experiment import Experiment\n",
    "\n",
    "%load_ext autoreload\n",
    "%autoreload 2\n",
    "\n"
   ]
  },
  {
   "source": [
    "# Experiments"
   ],
   "cell_type": "markdown",
   "metadata": {}
  },
  {
   "cell_type": "code",
   "execution_count": null,
   "metadata": {},
   "outputs": [],
   "source": [
    "from agents.agent_reinforce.agent import REINFORCEAgentConfig\n",
    "from agents.agent_deepqn.agent import DeepQAgentConfig\n"
   ]
  },
  {
   "cell_type": "code",
   "execution_count": null,
   "metadata": {},
   "outputs": [],
   "source": [
    "    num_episodes = 5000\n",
    "    max_t = 100\n",
    "\n",
    "    \"\"\"\n",
    "    order of config: num_agent, grid_size, agents_start, goals_start, prob_right_direction, actor_critic \n",
    "    init environment: num_agent = 2, grid_size = 8, prob_right_direction = 1, agents_start = [], goals_start=[], render_board = False\n",
    "    init of dqn:  state_size, action_size, config = DeepQAgentConfig(), seed = 1, samp_frames=1\n",
    "    init of rei:  state_size, action_size, config = REINFORCEAgentConfig(), seed = 1 <- no hidden layer!\n",
    "    \"\"\""
   ]
  },
  {
   "source": [
    "# Experiment Batch 6"
   ],
   "cell_type": "markdown",
   "metadata": {}
  },
  {
   "cell_type": "code",
   "execution_count": null,
   "metadata": {},
   "outputs": [],
   "source": [
    "from experiments.experiment_list import exp6_dqn, exp6_rei"
   ]
  },
  {
   "source": [
    "## Experiment Batch 6 - DQN"
   ],
   "cell_type": "markdown",
   "metadata": {}
  },
  {
   "cell_type": "code",
   "execution_count": null,
   "metadata": {
    "tags": []
   },
   "outputs": [],
   "source": [
    "dqn_experiments = []\n",
    "for i, config in enumerate(exp6_dqn):\n",
    "    \n",
    "    # --- Env --- #\n",
    "    env = GridEnv(num_agent = config[0], grid_size = config[1], fixed_start = config[2], fixed_goals=config[3], prob_right_direction = config[4], render_board = False, agents_fully_observable = True)\n",
    "\n",
    "    # --- Agents --- #\n",
    "    agent_config = DeepQAgentConfig(HIDDEN_LAYER_SIZE=config[5])\n",
    "    agent = DeepQAgent(env.state_space, env.action_space.n, seed=1, config=agent_config)\n",
    "    agents = [agent for _ in range(env.num_agent)]\n",
    "\n",
    "    # --- Experiment --- #\n",
    "    new_experiment = Experiment(name=\"Batch 6 - DQN - Exp_{}\".format(str(i)), environment= env, agents=agents, max_t=max_t,                               num_episodes=num_episodes, goal = 0., save_states_every=0, experiment_num=i)\n",
    "    dqn_experiments.append(new_experiment)\n",
    "\n",
    "print(len(dqn_experiments))"
   ]
  },
  {
   "cell_type": "code",
   "execution_count": null,
   "metadata": {},
   "outputs": [],
   "source": [
    "for experiment in dqn_experiments:\n",
    "    score_history, state_history = experiment.run()\n",
    "    experiment.save(score_history, state_history, display = False)"
   ]
  },
  {
   "source": [
    "## Experiment Batch 6 - REINFORCE"
   ],
   "cell_type": "markdown",
   "metadata": {}
  },
  {
   "cell_type": "code",
   "execution_count": null,
   "metadata": {},
   "outputs": [],
   "source": [
    "rei_experiments = []\n",
    "for i, config in enumerate(exp6_rei):\n",
    "    \n",
    "    # --- Env --- #\n",
    "    env = GridEnv(num_agent = config[0], grid_size = config[1], fixed_start = config[2], fixed_goals=config[3], prob_right_direction = config[4], render_board = False, agents_fully_observable = True)\n",
    "\n",
    "    # --- Agents --- #\n",
    "    agent_config = REINFORCEAgentConfig(HIDDEN_LAYER_SIZE=config[5])\n",
    "    agent = REINFORCEAgent(env.state_space, env.action_space.n, seed=1, config=agent_config)\n",
    "    agents = [agent for _ in range(env.num_agent)]\n",
    "\n",
    "    # --- Experiment --- #\n",
    "    new_experiment = Experiment(name=\"Batch 6 - REI - Exp_{}\".format(str(i)), environment= env, agents=agents, max_t=max_t,                               num_episodes=num_episodes, goal = 0., save_states_every=0, experiment_num=i)\n",
    "    rei_experiments.append(new_experiment)\n",
    "\n",
    "print(len(rei_experiments))"
   ]
  },
  {
   "cell_type": "code",
   "execution_count": null,
   "metadata": {},
   "outputs": [],
   "source": [
    "for experiment in rei_experiments:\n",
    "    score_history, state_history = experiment.run()\n",
    "    experiment.save(score_history, state_history, display = False)"
   ]
  },
  {
   "source": [
    "# Experiment Batch 7"
   ],
   "cell_type": "markdown",
   "metadata": {}
  },
  {
   "cell_type": "code",
   "execution_count": null,
   "metadata": {},
   "outputs": [],
   "source": [
    "from experiments.experiment_list import exp7_dqn, exp7_rei"
   ]
  },
  {
   "source": [
    "## Experiment Batch 7 - DQN"
   ],
   "cell_type": "markdown",
   "metadata": {}
  },
  {
   "cell_type": "code",
   "execution_count": null,
   "metadata": {},
   "outputs": [],
   "source": [
    "dqn_experiments = []\n",
    "for i, config in enumerate(exp7_dqn):\n",
    "    \n",
    "    # --- Env --- #\n",
    "    env = GridEnv(num_agent = config[0], grid_size = config[1], fixed_start = config[2], fixed_goals=config[3], prob_right_direction = config[4], render_board = False, agents_fully_observable = True)\n",
    "\n",
    "    # --- Agents --- #\n",
    "    agent_config = DeepQAgentConfig(HIDDEN_LAYER_SIZE=config[5])\n",
    "    agent = DeepQAgent(env.state_space, env.action_space.n, seed=1, config=agent_config)\n",
    "    agents = [agent for _ in range(env.num_agent)]\n",
    "\n",
    "    # --- Experiment --- #\n",
    "    new_experiment = Experiment(name=\"Batch 7 - DQN - Exp_{}\".format(str(i)), environment= env, agents=agents, max_t=max_t,                               num_episodes=num_episodes, goal = 0., save_states_every=0, experiment_num=i)\n",
    "    dqn_experiments.append(new_experiment)\n",
    "\n",
    "print(len(dqn_experiments))"
   ]
  },
  {
   "cell_type": "code",
   "execution_count": null,
   "metadata": {},
   "outputs": [],
   "source": [
    "for experiment in dqn_experiments:\n",
    "    score_history, state_history = experiment.run()\n",
    "    experiment.save(score_history, state_history, display = False)"
   ]
  },
  {
   "source": [
    "## Experiment Batch 7 - REINFORCE"
   ],
   "cell_type": "markdown",
   "metadata": {}
  },
  {
   "cell_type": "code",
   "execution_count": null,
   "metadata": {},
   "outputs": [],
   "source": [
    "rei_experiments = []\n",
    "for i, config in enumerate(exp7_rei):\n",
    "    \n",
    "    # --- Env --- #\n",
    "    env = GridEnv(num_agent = config[0], grid_size = config[1], fixed_start = config[2], fixed_goals=config[3], prob_right_direction = config[4], render_board = False, agents_fully_observable = True)\n",
    "\n",
    "    # --- Agents --- #\n",
    "    agent_config = REINFORCEAgentConfig(HIDDEN_LAYER_SIZE=config[5])\n",
    "    agent = REINFORCEAgent(env.state_space, env.action_space.n, seed=1, config=agent_config)\n",
    "    agents = [agent for _ in range(env.num_agent)]\n",
    "\n",
    "    # --- Experiment --- #\n",
    "    new_experiment = Experiment(name=\"Batch 7 - REI - Exp_{}\".format(str(i)), environment= env, agents=agents, max_t=max_t,                               num_episodes=num_episodes, goal = 0., save_states_every=0, experiment_num=i)\n",
    "    rei_experiments.append(new_experiment)\n",
    "\n",
    "print(len(rei_experiments))"
   ]
  },
  {
   "cell_type": "code",
   "execution_count": null,
   "metadata": {},
   "outputs": [],
   "source": [
    "for experiment in rei_experiments:\n",
    "    score_history, state_history = experiment.run()\n",
    "    experiment.save(score_history, state_history, display = False)"
   ]
  },
  {
   "source": [
    "# Experiment Batch 3"
   ],
   "cell_type": "markdown",
   "metadata": {}
  },
  {
   "cell_type": "code",
   "execution_count": null,
   "metadata": {},
   "outputs": [],
   "source": [
    "from experiments.experiment_list import exp3_dqn, exp3_rei"
   ]
  },
  {
   "source": [
    "## Experiment Batch 3 - DQN"
   ],
   "cell_type": "markdown",
   "metadata": {}
  },
  {
   "cell_type": "code",
   "execution_count": null,
   "metadata": {},
   "outputs": [],
   "source": [
    "dqn_experiments = []\n",
    "for i, config in enumerate(exp3_dqn[:1]):\n",
    "    \n",
    "    # --- Env --- #\n",
    "    env = GridEnv(num_agent = config[0], grid_size = config[1], fixed_start = config[2], fixed_goals=config[3], prob_right_direction = config[4], render_board = False, agents_fully_observable = True)\n",
    "\n",
    "    # --- Agents --- #\n",
    "    agent_config = DeepQAgentConfig(HIDDEN_LAYER_SIZE=config[5])\n",
    "    agent = DeepQAgent(env.state_space, env.action_space.n, seed=1, config=agent_config)\n",
    "    agents = [agent for _ in range(env.num_agent)]\n",
    "\n",
    "    # --- Experiment --- #\n",
    "    new_experiment = Experiment(name=\"Batch 3 - DQN - Exp_{}\".format(str(i)), environment= env, agents=agents, max_t=max_t,                               num_episodes=num_episodes, goal = 0., save_states_every=0, experiment_num=i)\n",
    "    dqn_experiments.append(new_experiment)\n",
    "\n",
    "print(len(dqn_experiments))"
   ]
  },
  {
   "cell_type": "code",
   "execution_count": null,
   "metadata": {},
   "outputs": [],
   "source": [
    "for experiment in dqn_experiments:\n",
    "    score_history, state_history = experiment.run()\n",
    "    experiment.save(score_history, state_history, display = False)"
   ]
  },
  {
   "source": [
    "## Experiment Batch 3 - REINFORCE"
   ],
   "cell_type": "markdown",
   "metadata": {}
  },
  {
   "cell_type": "code",
   "execution_count": null,
   "metadata": {},
   "outputs": [],
   "source": [
    "rei_experiments = []\n",
    "for i, config in enumerate(exp3_rei):\n",
    "    \n",
    "    # --- Env --- #\n",
    "    env = GridEnv(num_agent = config[0], grid_size = config[1], fixed_start = config[2], fixed_goals=config[3], prob_right_direction = config[4], render_board = False, agents_fully_observable = True)\n",
    "\n",
    "    # --- Agents --- #\n",
    "    agent_config = REINFORCEAgentConfig(HIDDEN_LAYER_SIZE=config[5])\n",
    "    agent = REINFORCEAgent(env.state_space, env.action_space.n, seed=1, config=agent_config)\n",
    "    agents = [agent for _ in range(env.num_agent)]\n",
    "\n",
    "    # --- Experiment --- #\n",
    "    new_experiment = Experiment(name=\"Batch 3 - REI - Exp_{}\".format(str(i)), environment= env, agents=agents, max_t=max_t,                               num_episodes=num_episodes, goal = 0., save_states_every=0, experiment_num=i)\n",
    "    rei_experiments.append(new_experiment)\n",
    "\n",
    "print(len(rei_experiments))"
   ]
  },
  {
   "cell_type": "code",
   "execution_count": null,
   "metadata": {},
   "outputs": [],
   "source": [
    "for experiment in rei_experiments:\n",
    "    score_history, state_history = experiment.run()\n",
    "    experiment.save(score_history, state_history, display = False)"
   ]
  },
  {
   "source": [
    "# Experiment Batch 4 - To be decided later!"
   ],
   "cell_type": "markdown",
   "metadata": {}
  },
  {
   "cell_type": "code",
   "execution_count": null,
   "metadata": {},
   "outputs": [],
   "source": [
    "from experiments.experiment_list import exp4_dqn, exp4_rei"
   ]
  },
  {
   "source": [
    "## DQN"
   ],
   "cell_type": "markdown",
   "metadata": {}
  },
  {
   "cell_type": "code",
   "execution_count": null,
   "metadata": {},
   "outputs": [],
   "source": [
    "dqn_experiments = []\n",
    "for i, config in enumerate(exp4_dqn):\n",
    "    \n",
    "    # --- Env --- #\n",
    "    env = GridEnv(num_agent = config[0], grid_size = config[1], fixed_start = config[2], fixed_goals=config[3], prob_right_direction = config[4], render_board = False, agents_fully_observable = True)\n",
    "\n",
    "    # --- Agents --- #\n",
    "    agent_config = DeepQAgentConfig(HIDDEN_LAYER_SIZE=config[5])\n",
    "    agent = DeepQAgent(env.state_space, env.action_space.n, seed=1, config=agent_config)\n",
    "    agents = [agent for _ in range(env.num_agent)]\n",
    "\n",
    "    # --- Experiment --- #\n",
    "    new_experiment = Experiment(name=\"Batch 4 - DQN - Exp_{}\".format(str(i)), environment= env, agents=agents, max_t=max_t,                               num_episodes=num_episodes, goal = 0., save_states_every=0, experiment_num=i)\n",
    "    dqn_experiments.append(new_experiment)\n",
    "\n",
    "print(len(dqn_experiments))"
   ]
  },
  {
   "cell_type": "code",
   "execution_count": null,
   "metadata": {},
   "outputs": [],
   "source": [
    "for experiment in dqn_experiments:\n",
    "    score_history, state_history = experiment.run()\n",
    "    experiment.save(score_history, state_history, display = False)"
   ]
  },
  {
   "source": [
    "## REINFORCE"
   ],
   "cell_type": "markdown",
   "metadata": {}
  },
  {
   "cell_type": "code",
   "execution_count": null,
   "metadata": {},
   "outputs": [],
   "source": [
    "rei_experiments = []\n",
    "for i, config in enumerate(exp4_rei):\n",
    "    \n",
    "    # --- Env --- #\n",
    "    env = GridEnv(num_agent = config[0], grid_size = config[1], fixed_start = config[2], fixed_goals=config[3], prob_right_direction = config[4], render_board = False, agents_fully_observable = True)\n",
    "\n",
    "    # --- Agents --- #\n",
    "    agent_config = REINFORCEAgentConfig(HIDDEN_LAYER_SIZE=config[5])\n",
    "    agent = REINFORCEAgent(env.state_space, env.action_space.n, seed=1, config=agent_config)\n",
    "    agents = [agent for _ in range(env.num_agent)]\n",
    "\n",
    "    # --- Experiment --- #\n",
    "    new_experiment = Experiment(name=\"Batch 4 - REI - Exp_{}\".format(str(i)), environment= env, agents=agents, max_t=max_t,                               num_episodes=num_episodes, goal = 0., save_states_every=0, experiment_num=i)\n",
    "    rei_experiments.append(new_experiment)\n",
    "\n",
    "print(len(rei_experiments))"
   ]
  },
  {
   "cell_type": "code",
   "execution_count": null,
   "metadata": {},
   "outputs": [],
   "source": [
    "for experiment in rei_experiments:\n",
    "    score_history, state_history = experiment.run()\n",
    "    experiment.save(score_history, state_history, display = False)"
   ]
  },
  {
   "source": [],
   "cell_type": "markdown",
   "metadata": {}
  }
 ]
}