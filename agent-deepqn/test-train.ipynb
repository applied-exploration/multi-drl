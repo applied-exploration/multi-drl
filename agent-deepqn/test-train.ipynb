{
 "metadata": {
  "language_info": {
   "codemirror_mode": {
    "name": "ipython",
    "version": 3
   },
   "file_extension": ".py",
   "mimetype": "text/x-python",
   "name": "python",
   "nbconvert_exporter": "python",
   "pygments_lexer": "ipython3",
   "version": "3.6.12"
  },
  "orig_nbformat": 2,
  "kernelspec": {
   "name": "python3612jvsc74a57bd021b14e6ae810b98687c42101764fbc6ed2f749f10b37141b42930ea65db4f89b",
   "display_name": "Python 3.6.12 64-bit ('drlnd': conda)"
  }
 },
 "nbformat": 4,
 "nbformat_minor": 2,
 "cells": [
  {
   "cell_type": "code",
   "execution_count": 1,
   "metadata": {},
   "outputs": [
    {
     "output_type": "stream",
     "name": "stdout",
     "text": [
      "Not all _agents_ have fixed starting positions, rest (1) will be random\nNot all _goals_ have fixed starting positions, rest (1) will be random\n\nFinal Self players:  [(5, 2)]\nFinal Self goals:  [(0, 4)]\n[[ 0.  0.  0.  0.  0.  0.  0.  0.]\n [ 0.  0.  0.  0.  0.  0.  0.  0.]\n [ 0.  0.  0.  0.  0.  1.  0.  0.]\n [ 0.  0.  0.  0.  0.  0.  0.  0.]\n [11.  0.  0.  0.  0.  0.  0.  0.]\n [ 0.  0.  0.  0.  0.  0.  0.  0.]\n [ 0.  0.  0.  0.  0.  0.  0.  0.]\n [ 0.  0.  0.  0.  0.  0.  0.  0.]]\n([[0.625, 0.375, 0.0, 0.5]], [-1], False)\n----\n[(5, 3)]\n[(0, 4)]\n"
     ]
    }
   ],
   "source": [
    "\n",
    "import gym\n",
    "import random\n",
    "import torch\n",
    "import numpy as np\n",
    "from collections import deque\n",
    "import matplotlib.pyplot as plt\n",
    "%matplotlib inline\n",
    "\n",
    "import sys, os\n",
    "sys.path.append(os.path.abspath('..'))\n",
    "from environment.grid import GridEnv, Action\n",
    "from enum import Enum\n",
    "\n",
    "\n",
    "%load_ext autoreload\n",
    "%autoreload 2\n",
    "from agent import Agent\n",
    "\n",
    "def mean(lst):\n",
    "    return sum(lst) / len(lst)\n"
   ]
  },
  {
   "cell_type": "code",
   "execution_count": 2,
   "metadata": {},
   "outputs": [
    {
     "output_type": "stream",
     "name": "stdout",
     "text": [
      "Not all _agents_ have fixed starting positions, rest (3) will be random\nNot all _goals_ have fixed starting positions, rest (3) will be random\n\nFinal Self players:  [(5, 6), (7, 6), (0, 3)]\nFinal Self goals:  [(2, 4), (1, 4), (2, 2)]\nNumber of actions:  4\nState space:  12\n"
     ]
    }
   ],
   "source": [
    "env = GridEnv(3, agents_start=[], goals_start=[])\n",
    "env.seed(0)\n",
    "print('Number of actions: ', env.action_space.n)\n",
    "print('State space: ', env.state_space)\n"
   ]
  },
  {
   "cell_type": "code",
   "execution_count": 3,
   "metadata": {
    "tags": []
   },
   "outputs": [],
   "source": [
    "\n",
    "\n",
    "agent = Agent(state_size=env.state_space, action_size=env.action_space.n, seed=0)"
   ]
  },
  {
   "cell_type": "code",
   "execution_count": 4,
   "metadata": {},
   "outputs": [
    {
     "output_type": "stream",
     "name": "stdout",
     "text": [
      "[0.875, 0.75, 0.125, 0.625, 0.0, 0.5, 0.25, 0.125, 0.75, 0.75, 0.625, 0.375]\n"
     ]
    }
   ],
   "source": [
    "# watch an untrained agent\n",
    "state = [item for sublist in env.reset() for item in sublist]\n",
    "print(state)\n",
    "for j in range(200):\n",
    "    action = agent.act(state)\n",
    "    states, rewards, done = env.step([action])\n",
    "    #state, reward = states[0], rewards[0]\n",
    "    if done:\n",
    "        break \n",
    "        \n",
    "env.close()"
   ]
  },
  {
   "cell_type": "code",
   "execution_count": 5,
   "metadata": {
    "tags": []
   },
   "outputs": [],
   "source": [
    "\n",
    "def flatten(list_of_lists):\n",
    "    return [item for sublist in list_of_lists for item in sublist]\n",
    "\n",
    "\n",
    "def dqn(agents, num_agents = 2, n_episodes=10000, max_t=1000, eps_start=1.0, eps_end=0.01, eps_decay=0.995):\n",
    "    \"\"\"Deep Q-Learning.\n",
    "    \n",
    "    Params\n",
    "    ======\n",
    "        n_episodes (int): maximum number of training episodes\n",
    "        max_t (int): maximum number of timesteps per episode\n",
    "        eps_start (float): starting value of epsilon, for epsilon-greedy action selection\n",
    "        eps_end (float): minimum value of epsilon\n",
    "        eps_decay (float): multiplicative factor (per episode) for decreasing epsilon\n",
    "    \"\"\"\n",
    "    scores = [[] for _ in np.arange(num_agents)]                       # list containing scores from each episode\n",
    "    scores_window = [deque(maxlen=100)  for _ in np.arange(num_agents)] # last 100 scores for each agent\n",
    "    eps = eps_start                    # initialize epsilon\n",
    "    for i_episode in range(1, n_episodes+1):\n",
    "        states = env.reset()\n",
    "        eps_scores = [0 for _ in np.arange(num_agents)]\n",
    "        for t in range(max_t):\n",
    "            actions = [agent.act(flatten(states), eps) for agent in agents]\n",
    "            next_states, rewards, done = env.step(actions)\n",
    "            [agent.step(flatten(states), action, reward, flatten(next_states), done) for agent, action, reward in zip(agents, actions, rewards)]\n",
    "            states = next_states\n",
    "            eps_scores = [score + reward for score, reward in zip(eps_scores, rewards)]\n",
    "            if done:\n",
    "                break \n",
    "\n",
    "        [scores_window[index].append(eps_scores[index]) for index, _ in enumerate(agents)]       # save most recent score\n",
    "        [scores[index].append(eps_scores[index]) for index, _ in enumerate(agents)]       # save most recent score\n",
    "        eps = max(eps_end, eps_decay*eps) # decrease epsilon\n",
    "        print('\\rEpisode {}\\tAverage Score: {:.2f}'.format(i_episode, np.mean(scores_window)), end=\"\")\n",
    "        if i_episode % 100 == 0:\n",
    "            print('\\rEpisode {}\\tAverage Score: {:.2f}'.format(i_episode, np.mean(scores_window)))\n",
    "        if np.mean(scores_window)>=200.0:\n",
    "            print('\\nEnvironment solved in {:d} episodes!\\tAverage Score: {:.2f}'.format(i_episode-100, np.mean(scores_window)))\n",
    "            torch.save(agent.qnetwork_local.state_dict(), 'checkpoint.pth')\n",
    "            break\n",
    "    return scores"
   ]
  },
  {
   "cell_type": "code",
   "execution_count": 6,
   "metadata": {
    "tags": []
   },
   "outputs": [
    {
     "output_type": "stream",
     "name": "stdout",
     "text": [
      "QNetwork(\n  (fc1): Linear(in_features=12, out_features=96, bias=True)\n  (fc2): Linear(in_features=96, out_features=8, bias=True)\n  (fc3): Linear(in_features=8, out_features=4, bias=True)\n)\n"
     ]
    }
   ],
   "source": [
    "num_agents = 3\n",
    "agents = [Agent(state_size=env.state_space, action_size=env.action_space.n, seed=0) for _ in np.arange(num_agents)]\n",
    "\n",
    "print(agents[0].qnetwork_local)"
   ]
  },
  {
   "cell_type": "code",
   "execution_count": null,
   "metadata": {},
   "outputs": [],
   "source": [
    "scores = dqn(agents, num_agents, n_episodes=3000)"
   ]
  },
  {
   "cell_type": "code",
   "execution_count": null,
   "metadata": {},
   "outputs": [],
   "source": [
    "import matplotlib.pyplot as plt\n",
    "\n",
    "fig = plt.figure()\n",
    "plt.title(\"Score per episode\")\n",
    "ax = fig.add_subplot(111)\n",
    "plt.plot(np.arange(len(scores[0][:3000])), scores[0][:3000])\n",
    "plt.ylabel('Score')\n",
    "plt.xlabel('Episode #')\n",
    "plt.show()"
   ]
  },
  {
   "cell_type": "code",
   "execution_count": null,
   "metadata": {},
   "outputs": [],
   "source": [
    "# load the weights from file\n",
    "agent.qnetwork_local.load_state_dict(torch.load('checkpoint.pth'))\n",
    "\n",
    "for i in range(3):\n",
    "    state = env.reset()\n",
    "    for j in range(200):\n",
    "        action = agent.act(state)\n",
    "        env.render()\n",
    "        state, reward, done, _ = env.step(action)\n",
    "        if done:\n",
    "            break \n",
    "            \n",
    "env.close()"
   ]
  },
  {
   "cell_type": "code",
   "execution_count": null,
   "metadata": {},
   "outputs": [],
   "source": []
  }
 ]
}