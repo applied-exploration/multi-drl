{
 "metadata": {
  "language_info": {
   "codemirror_mode": {
    "name": "ipython",
    "version": 3
   },
   "file_extension": ".py",
   "mimetype": "text/x-python",
   "name": "python",
   "nbconvert_exporter": "python",
   "pygments_lexer": "ipython3",
   "version": "3.9.2"
  },
  "orig_nbformat": 2,
  "kernelspec": {
   "name": "python392jvsc74a57bd04cf4a5c25d0443c718bc6df8c1cfde806d3459d5f26eb1cf93f3c76670b0736a",
   "display_name": "Python 3.9.2 64-bit ('drl': conda)"
  }
 },
 "nbformat": 4,
 "nbformat_minor": 2,
 "cells": [
  {
   "cell_type": "code",
   "execution_count": 2,
   "metadata": {},
   "outputs": [
    {
     "output_type": "stream",
     "name": "stdout",
     "text": [
      "[[ 0.  0.  0.  0.  0.  2.  0.  0.]\n [ 0.  0.  0.  0.  0.  0.  0.  0.]\n [ 1.  0.  0.  0.  0.  0.  0.  0.]\n [ 0.  0.  0. 22.  0.  0.  0.  0.]\n [ 0.  0.  0.  0.  0.  0.  0.  0.]\n [ 0.  0.  0.  0.  0.  0.  0.  0.]\n [ 0. 11.  0.  0.  0.  0.  0.  0.]\n [ 0.  0.  0.  0.  0.  0.  0.  0.]]\n[(0, 2), (5, 0)]\n[[ 0.  0.  0.  0.  0.  0.  2.  0.]\n [ 0.  0.  0.  0.  0.  0.  0.  0.]\n [ 0.  1.  0.  0.  0.  0.  0.  0.]\n [ 0.  0.  0. 22.  0.  0.  0.  0.]\n [ 0.  0.  0.  0.  0.  0.  0.  0.]\n [ 0.  0.  0.  0.  0.  0.  0.  0.]\n [ 0. 11.  0.  0.  0.  0.  0.  0.]\n [ 0.  0.  0.  0.  0.  0.  0.  0.]]\n[(1, 6), (3, 3)]\nTrue\n"
     ]
    }
   ],
   "source": [
    "%run environment/grid"
   ]
  },
  {
   "cell_type": "code",
   "execution_count": null,
   "metadata": {},
   "outputs": [],
   "source": []
  }
 ]
}