{
 "metadata": {
  "language_info": {
   "codemirror_mode": {
    "name": "ipython",
    "version": 3
   },
   "file_extension": ".py",
   "mimetype": "text/x-python",
   "name": "python",
   "nbconvert_exporter": "python",
   "pygments_lexer": "ipython3",
   "version": "3.6.12"
  },
  "orig_nbformat": 2,
  "kernelspec": {
   "name": "python3612jvsc74a57bd021b14e6ae810b98687c42101764fbc6ed2f749f10b37141b42930ea65db4f89b",
   "display_name": "Python 3.6.12 64-bit ('drlnd': conda)"
  }
 },
 "nbformat": 4,
 "nbformat_minor": 2,
 "cells": [
  {
   "cell_type": "code",
   "execution_count": 1,
   "metadata": {},
   "outputs": [
    {
     "output_type": "stream",
     "name": "stdout",
     "text": [
      "[[ 0.  0.  0.  0.  0.  0.  0.  0.]\n [ 0.  0.  0.  0.  0.  0.  0.  0.]\n [ 0.  0.  0.  0.  0.  0.  0.  0.]\n [ 0.  0.  0.  0.  0.  0.  0. 11.]\n [ 0.  0.  2.  0.  0.  0.  0.  0.]\n [ 1.  0.  0.  0.  0.  0.  0.  0.]\n [ 0.  0.  0.  0.  0.  0.  0.  0.]\n [ 0.  0.  0. 22.  0.  0.  0.  0.]]\n([[0.0, 0.75, 0.875, 0.375], [0.375, 0.5, 0.375, 0.875]], [-1, -1], False)\n----\n[(0, 6), (3, 4)]\n[(7, 3), (3, 7)]\n"
     ]
    }
   ],
   "source": [
    "## Import base classes\n",
    "import numpy as np\n",
    "import random\n",
    "import sys, os\n",
    "\n",
    "# For Interactive Plotting\n",
    "from viz_util import interactive_plotting\n",
    "\n",
    "# For Environment import \n",
    "import sys, os\n",
    "sys.path.append(os.path.abspath('..'))\n",
    "from environment.grid import GridEnv, Action\n",
    "from enum import Enum\n",
    "\n",
    "# For converting during training\n",
    "import torch\n",
    "import torch.nn as nn\n",
    "import torch.nn.functional as F"
   ]
  },
  {
   "cell_type": "code",
   "execution_count": 2,
   "metadata": {},
   "outputs": [],
   "source": [
    "%load_ext autoreload\n",
    "%autoreload 2\n",
    "# For Agent import\n",
    "from multi_ddpg import MADDPG"
   ]
  },
  {
   "cell_type": "code",
   "execution_count": 3,
   "metadata": {},
   "outputs": [],
   "source": [
    "# --- Create Environment --- #\n",
    "def create_environment(name):\n",
    "    if \"taxi-grid\":\n",
    "        env = GridEnv()\n",
    "    state_space, action_space, num_agent = env.state_space, env.action_space, env.num_agent\n",
    "    ##possible_actions = Action(Enum())\n",
    "\n",
    "    print(\"--- Environment {} has been loaded. ---\".format(name))\n",
    "    print(\"State size: {} | Action size: {} | Number of Agents: {}\".format(state_space, action_space, num_agent))\n",
    "    ##print(\"Possible Actions: {}\".format(possible_actions))\n",
    "    return env, state_space, action_space.n, num_agent##, possible_actions\n",
    "\n",
    "# --- Check example outputs --- #\n",
    "def example_env_output(env):\n",
    "    next_states, rewards, done = env.step([0, 1])\n",
    "    print(\"State: \", next_states)\n",
    "    print(\"Reward: \", rewards)\n",
    "    print(\"Done: \", done)"
   ]
  },
  {
   "cell_type": "code",
   "execution_count": 4,
   "metadata": {},
   "outputs": [
    {
     "output_type": "stream",
     "name": "stdout",
     "text": [
      "--- Environment taxi-grid has been loaded. ---\nState size: 8 | Action size: Discrete(4) | Number of Agents: 2\n"
     ]
    }
   ],
   "source": [
    "# state_size, action_size, num_agent, possible_actions = create_environment(\"taxi-grid\")\n",
    "env, state_size, action_size, num_agent = create_environment(\"taxi-grid\")"
   ]
  },
  {
   "cell_type": "code",
   "execution_count": 5,
   "metadata": {},
   "outputs": [
    {
     "output_type": "stream",
     "name": "stdout",
     "text": [
      "State:  [[0.875, 0.375, 0.125, 0.25], [0.75, 0.875, 0.125, 0.125]]\nReward:  [-1, -1]\nDone:  False\n"
     ]
    }
   ],
   "source": [
    "example_env_output(env)"
   ]
  },
  {
   "cell_type": "code",
   "execution_count": 6,
   "metadata": {},
   "outputs": [
    {
     "output_type": "stream",
     "name": "stdout",
     "text": [
      "\n--- Agent 0 Params ---\nGoing to train on cpu\nLearning Rate:: Actor: 0.0001 | Critic: 0.001\nReplay Buffer:: Buffer Size: 100000 | Sampled Batch size: 128\n\n--- Agent 1 Params ---\nGoing to train on cpu\nLearning Rate:: Actor: 0.0001 | Critic: 0.001\nReplay Buffer:: Buffer Size: 100000 | Sampled Batch size: 128\n"
     ]
    }
   ],
   "source": [
    "# Create Environment\n",
    "agents = MADDPG(state_size=int(state_size/num_agent), action_size=action_size, random_seed = 1, num_agent=num_agent)"
   ]
  },
  {
   "cell_type": "code",
   "execution_count": 37,
   "metadata": {},
   "outputs": [],
   "source": [
    "def DDPG_eval(agents, env, max_t=100):\n",
    "    states = env.reset()                                   # reset the environment & get the current state (for each agent)\n",
    "    cum_scores = np.zeros(num_agent)                           # initialize the score (for each agent)\n",
    "    scores = []\n",
    "    episode_length = 0                                     # measure number of steps allowed before done flag\n",
    "    for i in range(max_t):\n",
    "        # actions = np.random.randn(num_agents, action_size) # select an action (for each agent); randomly!\n",
    "        actions = agents.act([torch.from_numpy(np.array(state)).float() for state in states])           # select an action (for each agent)\n",
    "        #actions = np.clip(actions, -1, 1)                  # all actions between -1 and 1\n",
    "        next_states, rewards, dones = env.step([np.random.choice(action_size, p=agent_action_prob.numpy()) for agent_action_prob in actions])     # send all actions to the environment, get next_state, rewards and done\n",
    "        cum_scores += rewards                                  # update the score (for each agent)\n",
    "        scores.append(cum_scores)\n",
    "        states = next_states                               # roll over states to next time step\n",
    "        episode_length +=1\n",
    "        print(env.render(), end='\\r')\n",
    "        ##interactive_plotting(scores)\n",
    "        if np.any(dones):                                  # exit loop if episode finished\n",
    "            break\n",
    "    print('Episode length is {}'.format(episode_length))\n",
    "    print('Total score (averaged over agents) this episode: {}'.format(np.mean(cum_scores)))"
   ]
  },
  {
   "cell_type": "code",
   "execution_count": 38,
   "metadata": {
    "tags": []
   },
   "outputs": [
    {
     "output_type": "stream",
     "name": "stdout",
     "text": [
      "[[ 0.  0.  0.  0.  0.  0.  0.  0.]\n",
      " [ 0.  0.  2.  0.  0.  0.  0.  0.]\n",
      " [ 0.  0.  0.  0.  0.  0.  0.  0.]\n",
      " [ 0.  0.  0.  0.  0.  0.  0.  0.]\n",
      " [ 0.  0.  0.  0.  0.  0.  0. 22.]\n",
      " [ 0.  0.  0.  0. 11.  0.  0.  0.]\n",
      " [ 0.  0.  1.  0.  0.  0.  0.  0.]\n",
      "[[ 0.  0.  0.  0.  0.  0.  0.  0.]\n",
      " [ 0.  0.  0.  0.  0.  0.  0.  0.]\n",
      " [ 0.  0.  2.  0.  0.  0.  0.  0.]\n",
      " [ 0.  0.  0.  0.  0.  0.  0.  0.]\n",
      " [ 0.  0.  0.  0.  0.  0.  0. 22.]\n",
      " [ 0.  0.  0.  0. 11.  0.  0.  0.]\n",
      " [ 0.  0.  0.  1.  0.  0.  0.  0.]\n",
      "[[ 0.  0.  0.  0.  0.  0.  0.  0.]\n",
      " [ 0.  0.  2.  0.  0.  0.  0.  0.]\n",
      " [ 0.  0.  0.  0.  0.  0.  0.  0.]\n",
      " [ 0.  0.  0.  0.  0.  0.  0.  0.]\n",
      " [ 0.  0.  0.  0.  0.  0.  0. 22.]\n",
      " [ 0.  0.  0.  0. 11.  0.  0.  0.]\n",
      " [ 0.  0.  0.  0.  0.  0.  0.  0.]\n",
      "[[ 0.  0.  0.  0.  0.  0.  0.  0.]\n",
      " [ 0.  0.  0.  0.  0.  0.  0.  0.]\n",
      " [ 0.  0.  2.  0.  0.  0.  0.  0.]\n",
      " [ 0.  0.  0.  0.  0.  0.  0.  0.]\n",
      " [ 0.  0.  0.  0.  0.  0.  0. 22.]\n",
      " [ 0.  0.  0.  0. 11.  0.  0.  0.]\n",
      " [ 0.  0.  0.  1.  0.  0.  0.  0.]\n",
      "[[ 0.  0.  0.  0.  0.  0.  0.  0.]\n",
      " [ 0.  0.  0.  0.  0.  0.  0.  0.]\n",
      " [ 0.  2.  0.  0.  0.  0.  0.  0.]\n",
      " [ 0.  0.  0.  0.  0.  0.  0.  0.]\n",
      " [ 0.  0.  0.  0.  0.  0.  0. 22.]\n",
      " [ 0.  0.  0.  0. 11.  0.  0.  0.]\n",
      " [ 0.  0.  0.  0.  1.  0.  0.  0.]\n",
      "[[ 0.  0.  0.  0.  0.  0.  0.  0.]\n",
      " [ 0.  0.  0.  0.  0.  0.  0.  0.]\n",
      " [ 0.  0.  0.  0.  0.  0.  0.  0.]\n",
      " [ 0.  2.  0.  0.  0.  0.  0.  0.]\n",
      " [ 0.  0.  0.  0.  0.  0.  0. 22.]\n",
      " [ 0.  0.  0.  0. 11.  0.  0.  0.]\n",
      " [ 0.  0.  0.  0.  0.  0.  0.  0.]\n",
      "Episode length is 6\n",
      "Total score (averaged over agents) this episode: -0.5\n",
      "c:\\Users\\danie\\Code\\ai\\udacity-nano\\research company\\multi-taxi-drl\\agent\\policy.py:43: UserWarning: Implicit dimension choice for softmax has been deprecated. Change the call to include dim=X as an argument.\n",
      "  return F.softmax(x)\n"
     ]
    }
   ],
   "source": [
    "DDPG_eval(agents, env)"
   ]
  },
  {
   "cell_type": "code",
   "execution_count": null,
   "metadata": {},
   "outputs": [],
   "source": []
  }
 ]
}