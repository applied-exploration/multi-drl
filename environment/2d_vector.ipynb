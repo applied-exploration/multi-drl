{
 "metadata": {
  "language_info": {
   "codemirror_mode": {
    "name": "ipython",
    "version": 3
   },
   "file_extension": ".py",
   "mimetype": "text/x-python",
   "name": "python",
   "nbconvert_exporter": "python",
   "pygments_lexer": "ipython3",
   "version": "3.9.2"
  },
  "orig_nbformat": 2,
  "kernelspec": {
   "name": "python392jvsc74a57bd04cf4a5c25d0443c718bc6df8c1cfde806d3459d5f26eb1cf93f3c76670b0736a",
   "display_name": "Python 3.9.2 64-bit ('drl': conda)"
  }
 },
 "nbformat": 4,
 "nbformat_minor": 2,
 "cells": [
  {
   "cell_type": "code",
   "execution_count": 1,
   "metadata": {},
   "outputs": [],
   "source": [
    "import itertools\n",
    "from math import sqrt\n",
    "\n",
    "def v_length(vec):\n",
    "    return sqrt(vec[0]**2 + vec[1]**2)\n",
    "\n",
    "def v_subtract(lhs, rhs):\n",
    "    return (lhs[0] - lhs[1], rhs[0] - rhs[1])\n"
   ]
  },
  {
   "cell_type": "code",
   "execution_count": 12,
   "metadata": {},
   "outputs": [
    {
     "output_type": "execute_result",
     "data": {
      "text/plain": [
       "[((2, 2), (2, 3))]"
      ]
     },
     "metadata": {},
     "execution_count": 12
    }
   ],
   "source": [
    "vecs = [(1,4), (2,2), (2,3), (1,5)]\n",
    "\n",
    "def is_within_eachothers_radius(vecs, radius):\n",
    "    def is_within_range(vec1, vec2, radius):\n",
    "        return v_length(v_subtract(vec1, vec2)) < radius\n",
    "\n",
    "    pairs_within_range = [combination if is_within_range(combination[0], combination[1], radius) else None for combination in itertools.combinations(vecs, 2)]\n",
    "    return list(filter(None, pairs_within_range))\n",
    "\n",
    "is_within_eachothers_radius(vecs, 3)"
   ]
  },
  {
   "cell_type": "code",
   "execution_count": 13,
   "metadata": {},
   "outputs": [
    {
     "output_type": "execute_result",
     "data": {
      "text/plain": [
       "True"
      ]
     },
     "metadata": {},
     "execution_count": 13
    }
   ],
   "source": [
    "(1,4) in vecs"
   ]
  },
  {
   "cell_type": "code",
   "execution_count": null,
   "metadata": {},
   "outputs": [],
   "source": []
  }
 ]
}